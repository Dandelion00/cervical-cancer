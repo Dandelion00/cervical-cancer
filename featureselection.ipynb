{
 "cells": [
  {
   "cell_type": "code",
   "execution_count": 1,
   "id": "e3c377bc",
   "metadata": {
    "execution": {
     "iopub.execute_input": "2023-05-31T17:40:08.898303Z",
     "iopub.status.busy": "2023-05-31T17:40:08.897706Z",
     "iopub.status.idle": "2023-05-31T17:40:08.914214Z",
     "shell.execute_reply": "2023-05-31T17:40:08.913176Z"
    },
    "papermill": {
     "duration": 0.025875,
     "end_time": "2023-05-31T17:40:08.917350",
     "exception": false,
     "start_time": "2023-05-31T17:40:08.891475",
     "status": "completed"
    },
    "tags": []
   },
   "outputs": [
    {
     "name": "stdout",
     "output_type": "stream",
     "text": [
      "['A', 'B', 'C', 'D', 'E', 'F', 'G', 'H', 'I', 'K', 'L', 'M', 'N', 'O', 'P', 'Q', 'R', 'S', 'T', 'U', 'V', 'W', 'X', 'Y']\n"
     ]
    }
   ],
   "source": [
    "# A-Z kecuali J dan Z karena J dan Z memerlukan gesture (harus video)\n",
    "alphabets = list(\"ABCDEFGHIKLMNOPQRSTUVWXY\")\n",
    "print(alphabets)"
   ]
  },
  {
   "cell_type": "code",
   "execution_count": 2,
   "id": "31dc4e50",
   "metadata": {
    "execution": {
     "iopub.execute_input": "2023-05-31T17:40:08.925169Z",
     "iopub.status.busy": "2023-05-31T17:40:08.924734Z",
     "iopub.status.idle": "2023-05-31T17:40:09.143213Z",
     "shell.execute_reply": "2023-05-31T17:40:09.141838Z"
    },
    "papermill": {
     "duration": 0.22567,
     "end_time": "2023-05-31T17:40:09.146235",
     "exception": false,
     "start_time": "2023-05-31T17:40:08.920565",
     "status": "completed"
    },
    "tags": []
   },
   "outputs": [],
   "source": [
    "import numpy as np\n",
    "import pandas as pd\n",
    "import os\n",
    "import cv2"
   ]
  },
  {
   "cell_type": "code",
   "execution_count": 3,
   "id": "f38958f1",
   "metadata": {
    "execution": {
     "iopub.execute_input": "2023-05-31T17:40:09.155062Z",
     "iopub.status.busy": "2023-05-31T17:40:09.154554Z",
     "iopub.status.idle": "2023-05-31T17:40:09.216811Z",
     "shell.execute_reply": "2023-05-31T17:40:09.215657Z"
    },
    "papermill": {
     "duration": 0.069722,
     "end_time": "2023-05-31T17:40:09.219433",
     "exception": false,
     "start_time": "2023-05-31T17:40:09.149711",
     "status": "completed"
    },
    "tags": []
   },
   "outputs": [
    {
     "name": "stdout",
     "output_type": "stream",
     "text": [
      "imported: A\n",
      "imported: B\n",
      "imported: C\n",
      "imported: D\n",
      "imported: E\n",
      "imported: F\n",
      "imported: G\n",
      "imported: H\n",
      "imported: I\n",
      "imported: K\n",
      "imported: L\n",
      "imported: M\n",
      "imported: N\n",
      "imported: O\n",
      "imported: P\n",
      "imported: Q\n",
      "imported: R\n",
      "imported: S\n",
      "imported: T\n",
      "imported: U\n",
      "imported: V\n",
      "imported: W\n",
      "imported: X\n",
      "imported: Y\n",
      "x0 y0 z0 x1 y1 z1 x2 y2 z2 x3 y3 z3 x4 y4 z4 x5 y5 z5 x6 y6 z6 x7 y7 z7 x8 y8 z8 x9 y9 z9 x10 y10 z10 x11 y11 z11 x12 y12 z12 x13 y13 z13 x14 y14 z14 x15 y15 z15 x16 y16 z16 x17 y17 z17 x18 y18 z18 x19 y19 z19 x20 y20 z20\n"
     ]
    },
    {
     "data": {
      "text/html": [
       "<div>\n",
       "<style scoped>\n",
       "    .dataframe tbody tr th:only-of-type {\n",
       "        vertical-align: middle;\n",
       "    }\n",
       "\n",
       "    .dataframe tbody tr th {\n",
       "        vertical-align: top;\n",
       "    }\n",
       "\n",
       "    .dataframe thead th {\n",
       "        text-align: right;\n",
       "    }\n",
       "</style>\n",
       "<table border=\"1\" class=\"dataframe\">\n",
       "  <thead>\n",
       "    <tr style=\"text-align: right;\">\n",
       "      <th></th>\n",
       "      <th>x0</th>\n",
       "      <th>y0</th>\n",
       "      <th>z0</th>\n",
       "      <th>x1</th>\n",
       "      <th>y1</th>\n",
       "      <th>z1</th>\n",
       "      <th>x2</th>\n",
       "      <th>y2</th>\n",
       "      <th>z2</th>\n",
       "      <th>x3</th>\n",
       "      <th>...</th>\n",
       "      <th>x18</th>\n",
       "      <th>y18</th>\n",
       "      <th>z18</th>\n",
       "      <th>x19</th>\n",
       "      <th>y19</th>\n",
       "      <th>z19</th>\n",
       "      <th>x20</th>\n",
       "      <th>y20</th>\n",
       "      <th>z20</th>\n",
       "      <th>target</th>\n",
       "    </tr>\n",
       "  </thead>\n",
       "  <tbody>\n",
       "  </tbody>\n",
       "</table>\n",
       "<p>0 rows × 64 columns</p>\n",
       "</div>"
      ],
      "text/plain": [
       "Empty DataFrame\n",
       "Columns: [x0, y0, z0, x1, y1, z1, x2, y2, z2, x3, y3, z3, x4, y4, z4, x5, y5, z5, x6, y6, z6, x7, y7, z7, x8, y8, z8, x9, y9, z9, x10, y10, z10, x11, y11, z11, x12, y12, z12, x13, y13, z13, x14, y14, z14, x15, y15, z15, x16, y16, z16, x17, y17, z17, x18, y18, z18, x19, y19, z19, x20, y20, z20, target]\n",
       "Index: []\n",
       "\n",
       "[0 rows x 64 columns]"
      ]
     },
     "execution_count": 3,
     "metadata": {},
     "output_type": "execute_result"
    }
   ],
   "source": [
    "temp_dataset = []\n",
    "\n",
    "for label in alphabets:\n",
    "    dataset_directory_prefix = '/kaggle/input/asl-alphabet-synthetic/output/dataset'\n",
    "    for dirname, _, filenames in os.walk(dataset_directory_prefix + label):\n",
    "        for filename in filenames:\n",
    "            pathname = os.path.join(dirname, filename)\n",
    "\n",
    "            with mp_hands.Hands(\n",
    "                static_image_mode=True,\n",
    "                max_num_hands=1,\n",
    "                min_detection_confidence=0.3\n",
    "            ) as hands:\n",
    "\n",
    "                image = cv2.flip(cv2.imread(pathname), 1)\n",
    "                result = hands.process(cv2.cvtColor(image, cv2.COLOR_BGR2RGB))\n",
    "\n",
    "                landmark_vertices_xyz = []\n",
    "                if not result.multi_hand_landmarks:\n",
    "                    continue\n",
    "\n",
    "                for l in result.multi_hand_landmarks[0].landmark:\n",
    "                    landmark_vertices_xyz.append(l.x)\n",
    "                    landmark_vertices_xyz.append(l.y)\n",
    "                    landmark_vertices_xyz.append(l.z)\n",
    "\n",
    "                temp_dataset.append((*landmark_vertices_xyz, label))\n",
    "                \n",
    "    print(f'imported: {label}')\n",
    "        \n",
    "landmark_vertices_xyz_label = []\n",
    "for idx in range(21):\n",
    "    for char in list('xyz'):\n",
    "        vertex_label = char+str(idx)\n",
    "        landmark_vertices_xyz_label.append(vertex_label)\n",
    "            \n",
    "print(*landmark_vertices_xyz_label)\n",
    "        \n",
    "dataset = pd.DataFrame(temp_dataset, columns=[*landmark_vertices_xyz_label, 'target'])\n",
    "dataset.head()"
   ]
  },
  {
   "cell_type": "code",
   "execution_count": null,
   "id": "f410cccd",
   "metadata": {
    "papermill": {
     "duration": 0.002752,
     "end_time": "2023-05-31T17:40:09.225445",
     "exception": false,
     "start_time": "2023-05-31T17:40:09.222693",
     "status": "completed"
    },
    "tags": []
   },
   "outputs": [],
   "source": []
  }
 ],
 "metadata": {
  "kernelspec": {
   "display_name": "Python 3",
   "language": "python",
   "name": "python3"
  },
  "language_info": {
   "codemirror_mode": {
    "name": "ipython",
    "version": 3
   },
   "file_extension": ".py",
   "mimetype": "text/x-python",
   "name": "python",
   "nbconvert_exporter": "python",
   "pygments_lexer": "ipython3",
   "version": "3.7.12"
  },
  "papermill": {
   "default_parameters": {},
   "duration": 13.377627,
   "end_time": "2023-05-31T17:40:10.253388",
   "environment_variables": {},
   "exception": null,
   "input_path": "__notebook__.ipynb",
   "output_path": "__notebook__.ipynb",
   "parameters": {},
   "start_time": "2023-05-31T17:39:56.875761",
   "version": "2.3.4"
  }
 },
 "nbformat": 4,
 "nbformat_minor": 5
}
